{
 "cells": [
  {
   "cell_type": "code",
   "execution_count": 1,
   "id": "27917bef-f707-459a-9dd3-2e7a9a8ec0a8",
   "metadata": {},
   "outputs": [],
   "source": [
    "from commute import *\n",
    "import matplotlib.pyplot as plt"
   ]
  },
  {
   "cell_type": "code",
   "execution_count": 2,
   "id": "4ea1a138-13a8-40ea-ae46-49ed468b5b3b",
   "metadata": {},
   "outputs": [
    {
     "name": "stdout",
     "output_type": "stream",
     "text": [
      "Driving cycle for Bus specified, but will be ignored.\n"
     ]
    },
    {
     "data": {
      "text/plain": [
       "[[{'vehicle': 'Bus',\n",
       "   'size': '13m-city',\n",
       "   'powertrain': 'BEV-depot',\n",
       "   'driving cycle': 'Urban delivery',\n",
       "   'location': 'FR',\n",
       "   'electricity consumption': 200,\n",
       "   'power': 200,\n",
       "   'battery type': 'NMC-622',\n",
       "   'number of passengers': 6,\n",
       "   'lifetime': 500000,\n",
       "   'distance': 1.0,\n",
       "   'return trip': False,\n",
       "   'fuel consumption': None,\n",
       "   'payload': None,\n",
       "   'battery capacity': None,\n",
       "   'curb mass': None,\n",
       "   'electric utility factor': None,\n",
       "   'annual mileage': 50000}],\n",
       " [{'vehicle': 'Car',\n",
       "   'size': 'Large',\n",
       "   'powertrain': 'PHEV-p',\n",
       "   'location': 'ES',\n",
       "   'fuel consumption': 5,\n",
       "   'electricity consumption': 10,\n",
       "   'power': 200,\n",
       "   'battery type': 'NMC-622',\n",
       "   'number of passengers': 5,\n",
       "   'lifetime': 50000,\n",
       "   'electric utility factor': 0.4,\n",
       "   'distance': 1.0,\n",
       "   'return trip': False,\n",
       "   'payload': None,\n",
       "   'battery capacity': None,\n",
       "   'curb mass': None,\n",
       "   'annual mileage': 12000}]]"
      ]
     },
     "execution_count": 2,
     "metadata": {},
     "output_type": "execute_result"
    }
   ],
   "source": [
    "requests = [\n",
    "    [{\n",
    "        \"vehicle\": \"Bus\",\n",
    "        \"size\": \"13m-city\",\n",
    "        \"powertrain\": \"BEV-depot\",\n",
    "        \"driving cycle\": \"Urban delivery\",\n",
    "        \"location\": \"FRA\",\n",
    "        \"electricity consumption\": 200,\n",
    "        \"power\": 200,\n",
    "        \"battery type\": \"NMC-622\",\n",
    "        \"number of passengers\": 6,\n",
    "        \"lifetime\": 500000,\n",
    "    }],\n",
    "    [{\n",
    "        \"vehicle\": \"Car\",\n",
    "        \"size\": \"Large\",\n",
    "        \"powertrain\": \"PHEV-p\",\n",
    "        \"location\": \"Spain\",\n",
    "        \"fuel consumption\": 5,\n",
    "        \"electricity consumption\": 10,\n",
    "        \"power\": 200,\n",
    "        \"battery type\": \"NMC-622\",\n",
    "        \"number of passengers\": 5,\n",
    "        \"lifetime\": 50000,\n",
    "        \"electric utility factor\": 0.4\n",
    "    }],\n",
    "    \n",
    "]\n",
    "\n",
    "process_commute_requests(requests)"
   ]
  },
  {
   "cell_type": "code",
   "execution_count": null,
   "id": "58c8c664-4104-4057-90b7-b19d4a8bafd5",
   "metadata": {},
   "outputs": [],
   "source": []
  }
 ],
 "metadata": {
  "kernelspec": {
   "display_name": "Python 3 (ipykernel)",
   "language": "python",
   "name": "python3"
  },
  "language_info": {
   "codemirror_mode": {
    "name": "ipython",
    "version": 3
   },
   "file_extension": ".py",
   "mimetype": "text/x-python",
   "name": "python",
   "nbconvert_exporter": "python",
   "pygments_lexer": "ipython3",
   "version": "3.9.12"
  }
 },
 "nbformat": 4,
 "nbformat_minor": 5
}
